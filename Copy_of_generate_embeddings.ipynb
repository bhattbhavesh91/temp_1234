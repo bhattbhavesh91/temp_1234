{
  "nbformat": 4,
  "nbformat_minor": 0,
  "metadata": {
    "colab": {
      "provenance": []
    },
    "kernelspec": {
      "name": "python3",
      "display_name": "Python 3"
    },
    "language_info": {
      "name": "python"
    }
  },
  "cells": [
    {
      "cell_type": "code",
      "source": [
        "import openai\n",
        "import numpy as np\n",
        "from openai import OpenAI"
      ],
      "metadata": {
        "id": "1GcfCCdLx2Z0"
      },
      "execution_count": null,
      "outputs": []
    },
    {
      "cell_type": "code",
      "source": [
        "def cosine_similarity(a, b):\n",
        "    \"\"\"Calculates the cosine similarity between two vectors.\"\"\"\n",
        "    return np.dot(a, b) / (np.linalg.norm(a) * np.linalg.norm(b))"
      ],
      "metadata": {
        "id": "dpVdUX4CP0PF"
      },
      "execution_count": null,
      "outputs": []
    },
    {
      "cell_type": "code",
      "source": [
        "sentences = [\"Home Loan\", \"Education Loan\"]"
      ],
      "metadata": {
        "id": "FpUMlsWAPep0"
      },
      "execution_count": null,
      "outputs": []
    },
    {
      "cell_type": "code",
      "source": [
        "client = OpenAI()"
      ],
      "metadata": {
        "id": "cEwXVySIPmnN"
      },
      "execution_count": null,
      "outputs": []
    },
    {
      "cell_type": "code",
      "source": [
        "embedding_1 = client.embeddings.create(input = sentences[0],\n",
        "                                       model = \"text-embedding-ada-002\")\n",
        "\n",
        "embedding_2 = client.embeddings.create(input= sentences[1],\n",
        "                                       model = \"text-embedding-ada-002\")"
      ],
      "metadata": {
        "id": "26sRlJy-Ph_g"
      },
      "execution_count": null,
      "outputs": []
    },
    {
      "cell_type": "code",
      "source": [
        "cosine_similarity(embedding_1.data[0].embedding, embedding_2.data[0].embedding)"
      ],
      "metadata": {
        "colab": {
          "base_uri": "https://localhost:8080/"
        },
        "id": "PZAwsCe2PxcA",
        "outputId": "81512c84-be02-4615-8abc-7ea103ebbda9"
      },
      "execution_count": null,
      "outputs": [
        {
          "output_type": "execute_result",
          "data": {
            "text/plain": [
              "0.8833605208170957"
            ]
          },
          "metadata": {},
          "execution_count": 40
        }
      ]
    },
    {
      "cell_type": "code",
      "source": [],
      "metadata": {
        "id": "b8D96mnUPiCg"
      },
      "execution_count": null,
      "outputs": []
    }
  ]
}